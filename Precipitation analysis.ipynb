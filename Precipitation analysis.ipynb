{
    "cells": [
        {
            "cell_type": "markdown",
            "metadata": {},
            "source": "# Description\nThis notebook analyzes and visualizes precipitation data."
        },
        {
            "cell_type": "code",
            "execution_count": 1,
            "metadata": {},
            "outputs": [
                {
                    "name": "stdout",
                    "output_type": "stream",
                    "text": "+--------------------------------------------------------------------------+/ 1]\n|Car;MPG;Cylinders;Displacement;Horsepower;Weight;Acceleration;Model;Origin|\n+--------------------------------------------------------------------------+\n|                                                      STRING;DOUBLE;INT...|\n|                                                      Chevrolet Chevell...|\n|                                                      Buick Skylark 320...|\n|                                                      Plymouth Satellit...|\n|                                                      AMC Rebel SST;16....|\n+--------------------------------------------------------------------------+\nonly showing top 5 rows\n\n"
                },
                {
                    "data": {
                        "text/plain": "configurationName = os_f6748e27abce48d3b19a1eb300849965_configs\nendpoint_f6748e27abce48d3b19a1eb300849965 = https://s3.private.eu.cloud-object-storage.appdomain.cloud\ncos = com.ibm.ibmos2spark.CloudObjectStorage@a2517734\nspark = org.apache.spark.sql.SparkSession@36422cdd\ndfData1 = [Car;MPG;Cylinders;Displacement;Horsepower;Weight;Acceleration;Model;Origin: string]\n"
                    },
                    "metadata": {},
                    "output_type": "display_data"
                },
                {
                    "data": {
                        "text/plain": "getCredentials: ()scala.collection.mutable.HashMap[String,String]\n"
                    },
                    "metadata": {},
                    "output_type": "display_data"
                },
                {
                    "data": {
                        "text/plain": "[Car;MPG;Cylinders;Displacement;Horsepower;Weight;Acceleration;Model;Origin: string]"
                    },
                    "execution_count": 1,
                    "metadata": {},
                    "output_type": "execute_result"
                }
            ],
            "source": "// The code was removed by Watson Studio for sharing."
        },
        {
            "cell_type": "code",
            "execution_count": null,
            "metadata": {},
            "outputs": [],
            "source": ""
        }
    ],
    "metadata": {
        "kernelspec": {
            "display_name": "Scala 2.12 with Spark",
            "language": "scala",
            "name": "scala"
        },
        "language_info": {
            "codemirror_mode": "text/x-scala",
            "file_extension": ".scala",
            "mimetype": "text/x-scala",
            "name": "scala",
            "pygments_lexer": "scala",
            "version": "2.12.12"
        }
    },
    "nbformat": 4,
    "nbformat_minor": 1
}